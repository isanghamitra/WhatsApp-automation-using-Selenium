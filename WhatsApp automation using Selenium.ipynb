{
 "cells": [
  {
   "cell_type": "markdown",
   "metadata": {},
   "source": [
    "# WHATSAPP AUTOMATION USING SELENIUM"
   ]
  },
  {
   "cell_type": "code",
   "execution_count": 5,
   "metadata": {},
   "outputs": [
    {
     "name": "stdout",
     "output_type": "stream",
     "text": [
      "Setup Complete\n"
     ]
    }
   ],
   "source": [
    "from selenium import webdriver\n",
    "from selenium.webdriver.support import expected_conditions as ec\n",
    "from selenium.webdriver.support.ui import WebDriverWait\n",
    "from selenium.webdriver.common.keys import Keys\n",
    "from selenium.webdriver.common.by import By\n",
    "import time\n",
    "print(\"Setup Complete\")"
   ]
  },
  {
   "cell_type": "code",
   "execution_count": 11,
   "metadata": {},
   "outputs": [],
   "source": [
    "browser = webdriver.Chrome(\"/Users/SANGHAMITRA  PC/Untitled Folder/chromedriver\")\n",
    "browser.get(\"https://web.whatsapp.com/\")\n",
    "wait = WebDriverWait(browser,400)\n",
    "target = '\"HERE ENTER THE CONTACT NAME YOU WANT TO SEND\"'\n",
    "string = \"This message is automated by a WhatsApp Bot!\"\n",
    "x_arg = '//span[contains(@title, ' + target + ')]'\n",
    "target = wait.until(ec.presence_of_element_located((By.XPATH,x_arg)))\n",
    "target.click()\n",
    "input_message = browser.find_element_by_class_name(\"_1Plpp\")\n",
    "\n",
    "for i in range(25):\n",
    "    input_message.send_keys(string + Keys.ENTER)"
   ]
  }
 ],
 "metadata": {
  "kernelspec": {
   "display_name": "Python 3",
   "language": "python",
   "name": "python3"
  },
  "language_info": {
   "codemirror_mode": {
    "name": "ipython",
    "version": 3
   },
   "file_extension": ".py",
   "mimetype": "text/x-python",
   "name": "python",
   "nbconvert_exporter": "python",
   "pygments_lexer": "ipython3",
   "version": "3.7.6"
  }
 },
 "nbformat": 4,
 "nbformat_minor": 4
}
